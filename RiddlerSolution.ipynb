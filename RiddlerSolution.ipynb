{
 "cells": [
  {
   "cell_type": "markdown",
   "metadata": {},
   "source": [
    "From Jerry Meyers, you’re going to have to science the shit out of this:\n",
    "\n",
    "Congratulations, astronaut! You’ve been selected for the first manned mission to Mars. You are slated to spend five Earth-years on the surface of the red planet (1,825 Earth-days — you can ignore leap years).\n",
    "\n",
    "Conditions on the planet will be brutal, and they will be especially rough on the equipment required to keep you alive. In fact, it is known that exactly one vital piece of equipment will break each day. Therefore, you and the rest of the international team of astronauts will be sent with three 3D printers to print replacement parts for critical equipment.\n",
    "\n",
    "Each printer is manufactured in a different country, however, and therefore parts from one printer are not compatible with any of the other printers (that means no scavenging allowed). If something breaks on a 3D printer, you will have to use one of the other 3D printers to print a replacement part. Any part can be printed effectively instantly, though any given printer only has the power to print one piece a day.\n",
    "\n",
    "The Riddler Aeronautics and Space Administration (RASA) has tested all three printers and found that, in addition to the daily breakage of the vital life-support equipment, one has a 10 percent chance of something breaking on any given day, the second a 7.5 percent chance and the last a 5 percent chance. If you can’t quickly print a replacement part for any piece of vital equipment, you’ll die.\n",
    "\n",
    "What are the chances that you make it home alive?"
   ]
  },
  {
   "cell_type": "markdown",
   "metadata": {},
   "source": [
    "# Definitions & Assumptions"
   ]
  },
  {
   "cell_type": "markdown",
   "metadata": {},
   "source": [
    "We will specify the state of the three 3D printers at the beginning of the day using binary: $111$ indicates all 3 are functional, $010$ indicates only the 2nd is functional, etc.\n",
    "\n",
    "We therefore begin in state $111$.\n",
    "\n",
    "We will make the following simplifying assumption:\n",
    "\n",
    "* All equipment breakages (vital equipment and 3D printers) occur simultaneously at the same time at the end of each Earth day (say, 11:59 PM Houston time).\n",
    "\n",
    "This allows us to say that we will never begin the day with 2 functional printers ($110$, $101$, or $011$). This is because, at 11:59 the night before, if we have 2 functional printers and a broken piece of vital equipment, we will immediately fix the broken vital equipment and the broken printer, beginning the next day with 3 functional printers.\n",
    "\n",
    "Futhermore, once we are in a state with only one functional printer (ex: $100$) we have only two possibilities:\n",
    "\n",
    "* Remain in that state (the printer did not break that day, and we used it to fix the broken vital equipment)\n",
    "* Die (state $000$), since the printer broke that day, and were unable to fix the broken vital equipment\n",
    "\n",
    "Therefore, we consider five possible states of the system at the beginning of each day:\n",
    "\n",
    "* $111$: all printers functional\n",
    "* $100$: only printer A functional\n",
    "* $010$: only printer B functional\n",
    "* $001$: only printer C functional\n",
    "* $000$: No printers functional (dead)\n",
    "\n",
    "The probability of failures of printers A, B, and C, are, respectively:\n",
    "\n",
    "* $a = 0.1$\n",
    "* $b = 0.075$\n",
    "* $c = 0.05$\n",
    "\n",
    "We can model the probability of surviving by modeling the transition matrix $T$, where $T_{ij}$ is the probability of transitioning from state $i$ to state $j$ in a given day.\n",
    "\n",
    "\\begin{align}\n",
    "T &= \\begin{bmatrix}\n",
    "    p(111 \\rightarrow 111) & p(111 \\rightarrow 100) & p(111 \\rightarrow 010) & p(111 \\rightarrow 001) & p(111 \\rightarrow 000)\\\\\n",
    "    p(110 \\rightarrow 111) & p(110 \\rightarrow 100) & p(110 \\rightarrow 010) & p(110 \\rightarrow 001) & p(110 \\rightarrow 000)\\\\\n",
    "    p(101 \\rightarrow 111) & p(101 \\rightarrow 100) & p(101 \\rightarrow 010) & p(101 \\rightarrow 001) & p(101 \\rightarrow 000)\\\\\n",
    "    p(011 \\rightarrow 111) & p(011 \\rightarrow 100) & p(011 \\rightarrow 010) & p(011 \\rightarrow 001) & p(011 \\rightarrow 000)\\\\\n",
    "    p(000 \\rightarrow 111) & p(000 \\rightarrow 100) & p(000 \\rightarrow 010) & p(000 \\rightarrow 001) & p(000 \\rightarrow 000)\n",
    "\\end{bmatrix}\\\\\n",
    "&= \\begin{bmatrix}\n",
    "    1 - ab - bc - ac + 2abc & (1-a)bc & a(1-b)c & ab(1-c) & abc\\\\\n",
    "    0 & 1-a & 0 & 0 & a\\\\\n",
    "    0 & 0 & 1-b & 0 & b\\\\\n",
    "    0 & 0 & 0 & 1-c & c\\\\\n",
    "    0 & 0 & 0 & 0 & 1 \n",
    "\\end{bmatrix}\n",
    "\\end{align}\n",
    "\n",
    "The most complex term above was $p(111 \\rightarrow 111)$, but as argued, we will remain having 3 printers as long as no more than 1 printer fails in a given day. Therefore, we compute the probability of two or more failing ($ab + bc + ac - 2abc$, accounting for double-counting), and take $1-$ that.\n",
    "\n",
    "We begin with 100% probability of being in state $111$, and then track the probability of being in each other state after $N$ days as:\n",
    "\n",
    "$$\n",
    "S_N = \\begin{bmatrix}\n",
    "p(111) \\\\\n",
    "p(100) \\\\\n",
    "p(010) \\\\\n",
    "p(001) \\\\\n",
    "p(000)\n",
    "\\end{bmatrix}\n",
    "= \\begin{bmatrix}\n",
    "1 \\\\\n",
    "0 \\\\\n",
    "0 \\\\\n",
    "0 \\\\\n",
    "0\n",
    "\\end{bmatrix} T^N\n",
    "$$\n",
    "\n",
    "We survive after $N$ days as long as we are not in state $000$."
   ]
  },
  {
   "cell_type": "markdown",
   "metadata": {},
   "source": [
    "# Solution"
   ]
  },
  {
   "cell_type": "code",
   "execution_count": 63,
   "metadata": {},
   "outputs": [],
   "source": [
    "import numpy as np\n",
    "import matplotlib.pyplot as plt\n",
    "import matplotlib as mpl\n",
    "plt.style.use('seaborn-poster')\n",
    "%matplotlib inline"
   ]
  },
  {
   "cell_type": "code",
   "execution_count": 64,
   "metadata": {},
   "outputs": [],
   "source": [
    "a = 0.1  # probability of first printer failure\n",
    "b = 0.075  # probability of second printer failure\n",
    "c = 0.05  # probability of third printer failure"
   ]
  },
  {
   "cell_type": "code",
   "execution_count": 87,
   "metadata": {},
   "outputs": [],
   "source": [
    "T = np.array([[1. - a*b - a*c - b*c + 2*a*b*c, (1-a)*b*c, a*(1-b)*c, a*b*(1-c), a*b*c],\n",
    "             [0, 1-a, 0, 0, a],\n",
    "             [0, 0, 1-b, 0, b],\n",
    "             [0, 0, 0, 1-c, c],\n",
    "             [0, 0, 0, 0, 1]])\n",
    "for i in range(5):\n",
    "    assert np.isclose(T[i].sum(), 1.0)"
   ]
  },
  {
   "cell_type": "code",
   "execution_count": 88,
   "metadata": {},
   "outputs": [],
   "source": [
    "def prob_survival(N):\n",
    "    T_n = np.linalg.matrix_power(T, N)\n",
    "    assert np.isclose(T_n[0].sum(), 1.0)\n",
    "    return T_n[0, :4].sum()"
   ]
  },
  {
   "cell_type": "code",
   "execution_count": 89,
   "metadata": {},
   "outputs": [
    {
     "data": {
      "text/plain": [
       "0.27641079121112255"
      ]
     },
     "execution_count": 89,
     "metadata": {},
     "output_type": "execute_result"
    }
   ],
   "source": [
    "prob_survival(100)"
   ]
  },
  {
   "cell_type": "code",
   "execution_count": 90,
   "metadata": {},
   "outputs": [
    {
     "data": {
      "text/plain": [
       "Text(0.5,0,'Mission Days')"
      ]
     },
     "execution_count": 90,
     "metadata": {},
     "output_type": "execute_result"
    },
    {
     "data": {
      "image/png": "[encoded data removed]",
      "text/plain": [
       "<matplotlib.figure.Figure at 0x111cad4a8>"
      ]
     },
     "metadata": {},
     "output_type": "display_data"
    }
   ],
   "source": [
    "fig, ax = plt.subplots()\n",
    "N = 100\n",
    "x = np.arange(N)+1\n",
    "ax.plot(x, [prob_survival(i) for i in x], 'k.')\n",
    "# ax.set_yscale('log')\n",
    "ax.set_ylabel('Probability of Survival')\n",
    "ax.set_xlabel('Mission Days')"
   ]
  },
  {
   "cell_type": "code",
   "execution_count": 91,
   "metadata": {},
   "outputs": [
    {
     "data": {
      "text/plain": [
       "Text(0.5,0,'Mission Days')"
      ]
     },
     "execution_count": 91,
     "metadata": {},
     "output_type": "execute_result"
    },
    {
     "data": {
      "image/png": "[encoded data removed]",
      "text/plain": [
       "<matplotlib.figure.Figure at 0x1120798d0>"
      ]
     },
     "metadata": {},
     "output_type": "display_data"
    }
   ],
   "source": [
    "fig, ax = plt.subplots()\n",
    "N = 1825\n",
    "x = np.arange(N)+1\n",
    "ax.plot(x, [prob_survival(i) for i in x], 'k.')\n",
    "ax.set_yscale('log')\n",
    "ax.set_ylabel('Probability of Survival')\n",
    "ax.set_xlabel('Mission Days')"
   ]
  },
  {
   "cell_type": "code",
   "execution_count": 92,
   "metadata": {},
   "outputs": [
    {
     "data": {
      "text/plain": [
       "5.503530397142464e-13"
      ]
     },
     "execution_count": 92,
     "metadata": {},
     "output_type": "execute_result"
    }
   ],
   "source": [
    "prob_survival(1825)"
   ]
  },
  {
   "cell_type": "code",
   "execution_count": 95,
   "metadata": {},
   "outputs": [
    {
     "data": {
      "text/plain": [
       "1817015493398.9622"
      ]
     },
     "execution_count": 95,
     "metadata": {},
     "output_type": "execute_result"
    }
   ],
   "source": [
    "1./prob_survival(1825)"
   ]
  },
  {
   "cell_type": "markdown",
   "metadata": {},
   "source": [
    "Therefore, there is only a $5.5\\times10^{-13}$ (or less than 1 in a trillion) chance of surviving for 1825 days"
   ]
  },
  {
   "cell_type": "code",
   "execution_count": null,
   "metadata": {},
   "outputs": [],
   "source": []
  }
 ],
 "metadata": {
  "kernelspec": {
   "display_name": "Python 3",
   "language": "python",
   "name": "python3"
  },
  "language_info": {
   "codemirror_mode": {
    "name": "ipython",
    "version": 3
   },
   "file_extension": ".py",
   "mimetype": "text/x-python",
   "name": "python",
   "nbconvert_exporter": "python",
   "pygments_lexer": "ipython3",
   "version": "3.6.4"
  }
 },
 "nbformat": 4,
 "nbformat_minor": 2
}
